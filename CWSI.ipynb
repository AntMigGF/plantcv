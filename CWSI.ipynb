{
  "nbformat": 4,
  "nbformat_minor": 0,
  "metadata": {
    "colab": {
      "provenance": [],
      "authorship_tag": "ABX9TyN9vNRByYf4j5YwCI2gmgQa",
      "include_colab_link": true
    },
    "kernelspec": {
      "name": "python3",
      "display_name": "Python 3"
    },
    "language_info": {
      "name": "python"
    }
  },
  "cells": [
    {
      "cell_type": "markdown",
      "metadata": {
        "id": "view-in-github",
        "colab_type": "text"
      },
      "source": [
        "<a href=\"https://colab.research.google.com/github/AntMigGF/plantcv/blob/master/CWSI.ipynb\" target=\"_parent\"><img src=\"https://colab.research.google.com/assets/colab-badge.svg\" alt=\"Open In Colab\"/></a>"
      ]
    },
    {
      "cell_type": "markdown",
      "source": [
        "# CÁLCULO CWSI\n",
        "CROP WATER STRESS INDEX"
      ],
      "metadata": {
        "id": "0MuWwKE56gN1"
      }
    },
    {
      "cell_type": "markdown",
      "source": [
        "## BIBLIOTECAS"
      ],
      "metadata": {
        "id": "msEyr3I86mD2"
      }
    },
    {
      "cell_type": "code",
      "source": [
        "!pip install opencv-python"
      ],
      "metadata": {
        "colab": {
          "base_uri": "https://localhost:8080/"
        },
        "id": "IPe07NDv9D3m",
        "outputId": "85f3f0da-dd50-4563-80f4-dcf688311d16"
      },
      "execution_count": 2,
      "outputs": [
        {
          "output_type": "stream",
          "name": "stdout",
          "text": [
            "Requirement already satisfied: opencv-python in /usr/local/lib/python3.10/dist-packages (4.10.0.84)\n",
            "Requirement already satisfied: numpy>=1.21.2 in /usr/local/lib/python3.10/dist-packages (from opencv-python) (1.26.4)\n"
          ]
        }
      ]
    },
    {
      "cell_type": "code",
      "source": [
        "import pandas as pd\n",
        "import seaborn as sns\n",
        "import numpy as np\n",
        "import matplotlib.pyplot as plt\n",
        "from scipy import stats\n",
        "from scipy.stats import shapiro\n",
        "from scipy.stats import pearsonr\n",
        "import statsmodels.api as sm\n",
        "\n",
        "from sklearn.linear_model import LinearRegression\n",
        "from IPython.display import display, clear_output\n",
        "\n",
        "import ipywidgets as widgets\n",
        "from ipywidgets import *\n",
        "\n",
        "sns.set_style(\"darkgrid\", {'font.family': 'serif', 'font.serif': ['Times New Roman']})"
      ],
      "metadata": {
        "id": "loIv97806lTE"
      },
      "execution_count": 1,
      "outputs": []
    },
    {
      "cell_type": "markdown",
      "source": [
        "## IMPORTAR DATOS\n",
        "Excel con datos ya filtrados (puede contener *outliers*)"
      ],
      "metadata": {
        "id": "c2aVNU_D6_HU"
      }
    },
    {
      "cell_type": "code",
      "execution_count": null,
      "metadata": {
        "colab": {
          "base_uri": "https://localhost:8080/",
          "height": 38
        },
        "id": "7sahSvIc6dzZ",
        "outputId": "b57ee652-02e9-4312-fd7b-0cbc22c424a0"
      },
      "outputs": [
        {
          "output_type": "display_data",
          "data": {
            "text/plain": [
              "<IPython.core.display.HTML object>"
            ],
            "text/html": [
              "\n",
              "     <input type=\"file\" id=\"files-053b1c56-3373-4eb0-892e-0c400a082ca6\" name=\"files[]\" multiple disabled\n",
              "        style=\"border:none\" />\n",
              "     <output id=\"result-053b1c56-3373-4eb0-892e-0c400a082ca6\">\n",
              "      Upload widget is only available when the cell has been executed in the\n",
              "      current browser session. Please rerun this cell to enable.\n",
              "      </output>\n",
              "      <script>// Copyright 2017 Google LLC\n",
              "//\n",
              "// Licensed under the Apache License, Version 2.0 (the \"License\");\n",
              "// you may not use this file except in compliance with the License.\n",
              "// You may obtain a copy of the License at\n",
              "//\n",
              "//      http://www.apache.org/licenses/LICENSE-2.0\n",
              "//\n",
              "// Unless required by applicable law or agreed to in writing, software\n",
              "// distributed under the License is distributed on an \"AS IS\" BASIS,\n",
              "// WITHOUT WARRANTIES OR CONDITIONS OF ANY KIND, either express or implied.\n",
              "// See the License for the specific language governing permissions and\n",
              "// limitations under the License.\n",
              "\n",
              "/**\n",
              " * @fileoverview Helpers for google.colab Python module.\n",
              " */\n",
              "(function(scope) {\n",
              "function span(text, styleAttributes = {}) {\n",
              "  const element = document.createElement('span');\n",
              "  element.textContent = text;\n",
              "  for (const key of Object.keys(styleAttributes)) {\n",
              "    element.style[key] = styleAttributes[key];\n",
              "  }\n",
              "  return element;\n",
              "}\n",
              "\n",
              "// Max number of bytes which will be uploaded at a time.\n",
              "const MAX_PAYLOAD_SIZE = 100 * 1024;\n",
              "\n",
              "function _uploadFiles(inputId, outputId) {\n",
              "  const steps = uploadFilesStep(inputId, outputId);\n",
              "  const outputElement = document.getElementById(outputId);\n",
              "  // Cache steps on the outputElement to make it available for the next call\n",
              "  // to uploadFilesContinue from Python.\n",
              "  outputElement.steps = steps;\n",
              "\n",
              "  return _uploadFilesContinue(outputId);\n",
              "}\n",
              "\n",
              "// This is roughly an async generator (not supported in the browser yet),\n",
              "// where there are multiple asynchronous steps and the Python side is going\n",
              "// to poll for completion of each step.\n",
              "// This uses a Promise to block the python side on completion of each step,\n",
              "// then passes the result of the previous step as the input to the next step.\n",
              "function _uploadFilesContinue(outputId) {\n",
              "  const outputElement = document.getElementById(outputId);\n",
              "  const steps = outputElement.steps;\n",
              "\n",
              "  const next = steps.next(outputElement.lastPromiseValue);\n",
              "  return Promise.resolve(next.value.promise).then((value) => {\n",
              "    // Cache the last promise value to make it available to the next\n",
              "    // step of the generator.\n",
              "    outputElement.lastPromiseValue = value;\n",
              "    return next.value.response;\n",
              "  });\n",
              "}\n",
              "\n",
              "/**\n",
              " * Generator function which is called between each async step of the upload\n",
              " * process.\n",
              " * @param {string} inputId Element ID of the input file picker element.\n",
              " * @param {string} outputId Element ID of the output display.\n",
              " * @return {!Iterable<!Object>} Iterable of next steps.\n",
              " */\n",
              "function* uploadFilesStep(inputId, outputId) {\n",
              "  const inputElement = document.getElementById(inputId);\n",
              "  inputElement.disabled = false;\n",
              "\n",
              "  const outputElement = document.getElementById(outputId);\n",
              "  outputElement.innerHTML = '';\n",
              "\n",
              "  const pickedPromise = new Promise((resolve) => {\n",
              "    inputElement.addEventListener('change', (e) => {\n",
              "      resolve(e.target.files);\n",
              "    });\n",
              "  });\n",
              "\n",
              "  const cancel = document.createElement('button');\n",
              "  inputElement.parentElement.appendChild(cancel);\n",
              "  cancel.textContent = 'Cancel upload';\n",
              "  const cancelPromise = new Promise((resolve) => {\n",
              "    cancel.onclick = () => {\n",
              "      resolve(null);\n",
              "    };\n",
              "  });\n",
              "\n",
              "  // Wait for the user to pick the files.\n",
              "  const files = yield {\n",
              "    promise: Promise.race([pickedPromise, cancelPromise]),\n",
              "    response: {\n",
              "      action: 'starting',\n",
              "    }\n",
              "  };\n",
              "\n",
              "  cancel.remove();\n",
              "\n",
              "  // Disable the input element since further picks are not allowed.\n",
              "  inputElement.disabled = true;\n",
              "\n",
              "  if (!files) {\n",
              "    return {\n",
              "      response: {\n",
              "        action: 'complete',\n",
              "      }\n",
              "    };\n",
              "  }\n",
              "\n",
              "  for (const file of files) {\n",
              "    const li = document.createElement('li');\n",
              "    li.append(span(file.name, {fontWeight: 'bold'}));\n",
              "    li.append(span(\n",
              "        `(${file.type || 'n/a'}) - ${file.size} bytes, ` +\n",
              "        `last modified: ${\n",
              "            file.lastModifiedDate ? file.lastModifiedDate.toLocaleDateString() :\n",
              "                                    'n/a'} - `));\n",
              "    const percent = span('0% done');\n",
              "    li.appendChild(percent);\n",
              "\n",
              "    outputElement.appendChild(li);\n",
              "\n",
              "    const fileDataPromise = new Promise((resolve) => {\n",
              "      const reader = new FileReader();\n",
              "      reader.onload = (e) => {\n",
              "        resolve(e.target.result);\n",
              "      };\n",
              "      reader.readAsArrayBuffer(file);\n",
              "    });\n",
              "    // Wait for the data to be ready.\n",
              "    let fileData = yield {\n",
              "      promise: fileDataPromise,\n",
              "      response: {\n",
              "        action: 'continue',\n",
              "      }\n",
              "    };\n",
              "\n",
              "    // Use a chunked sending to avoid message size limits. See b/62115660.\n",
              "    let position = 0;\n",
              "    do {\n",
              "      const length = Math.min(fileData.byteLength - position, MAX_PAYLOAD_SIZE);\n",
              "      const chunk = new Uint8Array(fileData, position, length);\n",
              "      position += length;\n",
              "\n",
              "      const base64 = btoa(String.fromCharCode.apply(null, chunk));\n",
              "      yield {\n",
              "        response: {\n",
              "          action: 'append',\n",
              "          file: file.name,\n",
              "          data: base64,\n",
              "        },\n",
              "      };\n",
              "\n",
              "      let percentDone = fileData.byteLength === 0 ?\n",
              "          100 :\n",
              "          Math.round((position / fileData.byteLength) * 100);\n",
              "      percent.textContent = `${percentDone}% done`;\n",
              "\n",
              "    } while (position < fileData.byteLength);\n",
              "  }\n",
              "\n",
              "  // All done.\n",
              "  yield {\n",
              "    response: {\n",
              "      action: 'complete',\n",
              "    }\n",
              "  };\n",
              "}\n",
              "\n",
              "scope.google = scope.google || {};\n",
              "scope.google.colab = scope.google.colab || {};\n",
              "scope.google.colab._files = {\n",
              "  _uploadFiles,\n",
              "  _uploadFilesContinue,\n",
              "};\n",
              "})(self);\n",
              "</script> "
            ]
          },
          "metadata": {}
        }
      ],
      "source": [
        "from google.colab import files\n",
        "uploaded=files.upload()"
      ]
    },
    {
      "cell_type": "code",
      "source": [
        "df = pd.read_excel(\"/content/DATOS_filtrado_II.xlsx\") #Lectura del archiv excel ya cargado"
      ],
      "metadata": {
        "id": "PgGt-Jm462q3"
      },
      "execution_count": null,
      "outputs": []
    },
    {
      "cell_type": "code",
      "source": [
        "df=df.dropna() #El código elimina los datos nulos"
      ],
      "metadata": {
        "id": "I-Q7VlTZ64GI"
      },
      "execution_count": null,
      "outputs": []
    },
    {
      "cell_type": "code",
      "source": [
        "df"
      ],
      "metadata": {
        "id": "Bug9yd1QaKzW"
      },
      "execution_count": null,
      "outputs": []
    },
    {
      "cell_type": "markdown",
      "source": [
        "### AJUSTES Y PREPARACIÓN PARA ELEMENTOS DINÁMICOS\n",
        "Facilitan la visualización e interacción con el código"
      ],
      "metadata": {
        "id": "0gqDD3qlLBz_"
      }
    },
    {
      "cell_type": "code",
      "source": [
        "#Asignar datos de fecha\n",
        "fecha_mapping = {\n",
        "    1: '10/03/2022',\n",
        "    2: '26/05/2022',\n",
        "    3: '04/10/2022',\n",
        "    4: '30/03/2023',\n",
        "    5: '29/06/2023',\n",
        "    6: '16/05/2024',\n",
        "    7: '17/05/2024',\n",
        "    8: '03/06/2024',\n",
        "    9: '06/06/2024'\n",
        "}\n",
        "\n",
        "df['Fecha'] = df['Fecha'].map(fecha_mapping)\n",
        "df['Fecha'] = pd.to_datetime(df['Fecha'], format='%d/%m/%Y')"
      ],
      "metadata": {
        "id": "7sydyYHOMfe8"
      },
      "execution_count": null,
      "outputs": []
    },
    {
      "cell_type": "code",
      "source": [
        "# Crear un diccionario con los mapeos de los valores de 'Fecha' a las nuevas fechas\n",
        "#variedad = {\n",
        "   # 1: 'Picual',\n",
        "   # 2: 'Arbequina'\n",
        "#}\n",
        "\n",
        "# Reemplazar los valores de 'Fecha' usando el diccionario y convertirlos al tipo de dato fecha\n",
        "#df['Variedad'] = df['Variedad'].map(variedad)"
      ],
      "metadata": {
        "id": "29QtKIt_MhyM"
      },
      "execution_count": null,
      "outputs": []
    },
    {
      "cell_type": "code",
      "source": [
        "#Lista de columnas\n",
        "possible_factors=list(df.columns)\n",
        "print(possible_factors)"
      ],
      "metadata": {
        "id": "UHF_0oJUMhs_"
      },
      "execution_count": null,
      "outputs": []
    },
    {
      "cell_type": "code",
      "source": [
        "grupo_selector = widgets.Dropdown(\n",
        "    options=df.columns,\n",
        "    description='Factor',\n",
        "    disabled=False\n",
        ")\n",
        "\n",
        "valor_column_selector = widgets.Dropdown(\n",
        "    options=[col for col in df.columns if df[col].dtype in ['float64', 'int64']],\n",
        "    description='Valores',\n",
        "    disabled=False\n",
        ")"
      ],
      "metadata": {
        "id": "3i4rYJhnMtJA"
      },
      "execution_count": null,
      "outputs": []
    },
    {
      "cell_type": "code",
      "source": [
        "factor_selector = widgets.Dropdown(\n",
        "    options=possible_factors,\n",
        "    description='Factor',\n",
        "    disabled=False\n",
        ")"
      ],
      "metadata": {
        "id": "4LG5urkUTftO"
      },
      "execution_count": null,
      "outputs": []
    },
    {
      "cell_type": "code",
      "source": [],
      "metadata": {
        "id": "FNI10fEKUO1c"
      },
      "execution_count": null,
      "outputs": []
    },
    {
      "cell_type": "markdown",
      "source": [],
      "metadata": {
        "id": "fESGFHTYNUGP"
      }
    },
    {
      "cell_type": "markdown",
      "source": [
        "\n",
        "\n",
        "---\n",
        "\n"
      ],
      "metadata": {
        "id": "Xe5zRYODMf0K"
      }
    },
    {
      "cell_type": "markdown",
      "source": [
        "\n",
        "## CÁLCULO DE PRESIONES DE VAPOR\n",
        "\n",
        "\n",
        "\n",
        "*   eₐ ⇒ Presión de vapor a tª de aire\n",
        "*   eₛ ⇒ Presión de vapor saturado a tª aire\n",
        "\n",
        "\n",
        "\n",
        "\n"
      ],
      "metadata": {
        "id": "TERl_UUv7b0R"
      }
    },
    {
      "cell_type": "code",
      "source": [
        "\n",
        "# Cálculo para presión de vapor saturado(es)\n",
        "def saturated_vapor_pressure(temp):\n",
        "    return 0.61078 * np.exp((17.27 * temp) / (temp + 237.3))\n"
      ],
      "metadata": {
        "id": "DBaX0yes7bZ6"
      },
      "execution_count": null,
      "outputs": []
    },
    {
      "cell_type": "code",
      "source": [
        "df['es'] = df['Ta'].apply(saturated_vapor_pressure) #Crección de nueva columna y aplicación de la función"
      ],
      "metadata": {
        "id": "gdbmZ3m1S26h"
      },
      "execution_count": null,
      "outputs": []
    },
    {
      "cell_type": "code",
      "source": [
        "df['ea']=(df['HR']/100)*df['es'] #Cálculo de presión de vapor a tª de aire"
      ],
      "metadata": {
        "id": "vI24bLbUS5t6"
      },
      "execution_count": null,
      "outputs": []
    },
    {
      "cell_type": "code",
      "source": [
        "df['DPV']=df['es']-df['ea'] #Diferencia de presión de vapor"
      ],
      "metadata": {
        "id": "kq9Pcp6tTZ8c"
      },
      "execution_count": null,
      "outputs": []
    },
    {
      "cell_type": "code",
      "source": [
        "df"
      ],
      "metadata": {
        "id": "FfooMO9vUfkL"
      },
      "execution_count": null,
      "outputs": []
    },
    {
      "cell_type": "markdown",
      "source": [
        "\n",
        "\n",
        "---\n",
        "\n"
      ],
      "metadata": {
        "id": "Xtp9FbhbV9pT"
      }
    },
    {
      "cell_type": "markdown",
      "source": [
        "# ELIMINACIÓN DE OUTLIERS"
      ],
      "metadata": {
        "id": "naHcqP2VV2zP"
      }
    },
    {
      "cell_type": "markdown",
      "source": [
        "\n",
        "\n",
        "---\n",
        "\n"
      ],
      "metadata": {
        "id": "HOM-gcaWqjlI"
      }
    },
    {
      "cell_type": "code",
      "source": [
        "Q1 = df.quantile(0.25)\n",
        "Q3 = df.quantile(0.75)\n",
        "IQR = Q3 - Q1"
      ],
      "metadata": {
        "id": "D-TZ0FFOqjJK"
      },
      "execution_count": null,
      "outputs": []
    },
    {
      "cell_type": "code",
      "source": [
        "df_filtrado = df[~((df < (Q1 - 1.5 * IQR)) | (df > (Q3 + 1.5 * IQR))).any(axis=1)]\n",
        "df_filtrado"
      ],
      "metadata": {
        "id": "A3irX9K9qjFJ"
      },
      "execution_count": null,
      "outputs": []
    },
    {
      "cell_type": "markdown",
      "source": [
        "\n",
        "\n",
        "---\n",
        "\n"
      ],
      "metadata": {
        "id": "_rA4QA3Sqknb"
      }
    },
    {
      "cell_type": "markdown",
      "source": [
        "###### REVISAR -POSIBLE ELIMINACIÓN POR CÓDIGO MÁS SIMPLE EN CELDA ANTERIOR-"
      ],
      "metadata": {
        "id": "p8fcDdvTrKTx"
      }
    },
    {
      "cell_type": "code",
      "source": [
        "# Función para calcular outliers por fecha\n",
        "def calcular_outliers_por_fecha(df_fecha):\n",
        "    Q1 = df_fecha['mean'].quantile(0.25)\n",
        "    Q3 = df_fecha['mean'].quantile(0.75)\n",
        "    RI = Q3 - Q1\n",
        "    limite_inferior = Q1 - 1.5 * RI\n",
        "    limite_superior = Q3 + 1.5 * RI\n",
        "\n",
        "    # Identificar outliers para esta fecha\n",
        "    df_fecha['es_outlier'] = (df_fecha['mean'] < limite_inferior) | (df_fecha['mean'] > limite_superior)\n",
        "\n",
        "    return df_fecha\n"
      ],
      "metadata": {
        "id": "oarQ10gNV8TT"
      },
      "execution_count": null,
      "outputs": []
    },
    {
      "cell_type": "code",
      "source": [
        "# Aplicar la función calcular_outliers_por_fecha por cada fecha\n",
        "df_out=df.groupby('Fecha').apply(calcular_outliers_por_fecha).reset_index(drop=True)"
      ],
      "metadata": {
        "id": "LHxi66NnWhD1"
      },
      "execution_count": null,
      "outputs": []
    },
    {
      "cell_type": "code",
      "source": [
        "df_out"
      ],
      "metadata": {
        "id": "Q-HotT1zq-Ap"
      },
      "execution_count": null,
      "outputs": []
    },
    {
      "cell_type": "code",
      "source": [
        "# Crear un diccionario con los mapeos de los valores de 'Fecha' a las nuevas fechas\n",
        "fecha_mapping = {\n",
        "    1: '10/03/2022',\n",
        "    2: '26/05/2022',\n",
        "    3: '04/10/2022',\n",
        "    4: '30/03/2023',\n",
        "    5: '29/06/2023',\n",
        "    6: '16/05/2024',\n",
        "    7: '17/05/2024',\n",
        "    8: '03/06/2024',\n",
        "    9: '06/06/2024'\n",
        "}\n",
        "\n",
        "# Reemplazar los valores de 'Fecha' usando el diccionario y convertirlos al tipo de dato fecha\n",
        "df_out['Fecha'] = df_out['Fecha'].map(fecha_mapping)\n",
        "df_out['Fecha'] = pd.to_datetime(df_out['Fecha'], format='%d/%m/%Y')"
      ],
      "metadata": {
        "id": "x8oKgxi_UkAT"
      },
      "execution_count": null,
      "outputs": []
    },
    {
      "cell_type": "code",
      "source": [
        "outliers = df_out[df_out['es_outlier']]\n",
        "outliers"
      ],
      "metadata": {
        "id": "uN_GqaUiWlyr"
      },
      "execution_count": null,
      "outputs": []
    },
    {
      "cell_type": "code",
      "source": [
        "#Vemos cuantas anomalías tenemos por fecha\n",
        "count_outliers = outliers.groupby('Fecha')['es_outlier'].sum()\n",
        "count_outliers"
      ],
      "metadata": {
        "id": "uNSU9ZrpWyCt"
      },
      "execution_count": null,
      "outputs": []
    },
    {
      "cell_type": "markdown",
      "source": [
        "##### ELIMINACIÓN DE OUTLIERS"
      ],
      "metadata": {
        "id": "Q9XjWTo6X2gA"
      }
    },
    {
      "cell_type": "code",
      "source": [
        "# Crear un diccionario con los mapeos de los valores de 'Fecha' a las nuevas fechas\n",
        "variedad = {\n",
        "    1: 'Picual',\n",
        "    2: 'Arbequina'\n",
        "}\n",
        "\n",
        "# Reemplazar los valores de 'Fecha' usando el diccionario y convertirlos al tipo de dato fecha\n",
        "df_filtrado['Variedad'] = df_filtrado['Variedad'].map(variedad)"
      ],
      "metadata": {
        "id": "7i53YRQfn_td"
      },
      "execution_count": null,
      "outputs": []
    },
    {
      "cell_type": "code",
      "source": [
        "df_filtrado"
      ],
      "metadata": {
        "id": "6ug1rzVWY_9p"
      },
      "execution_count": null,
      "outputs": []
    },
    {
      "cell_type": "markdown",
      "source": [
        "\n",
        "\n",
        "---\n",
        "\n"
      ],
      "metadata": {
        "id": "LbKZ8YaJWmE0"
      }
    },
    {
      "cell_type": "markdown",
      "source": [
        "# ANÁLISIS PARA LÍMITE INFERIOR EN LA RELACIÓN Tc-Ta CON DPV\n"
      ],
      "metadata": {
        "id": "-WQ-yaalVHfo"
      }
    },
    {
      "cell_type": "markdown",
      "source": [
        "#### GRÁFICA DE LA RELACIÓN ENTRE DPV Y Tc-Ta"
      ],
      "metadata": {
        "id": "LloKPPjKVg63"
      }
    },
    {
      "cell_type": "code",
      "source": [
        "# Crear un gráfico de dispersión\n",
        "plt.figure(figsize=(8, 6))\n",
        "sns.scatterplot(data=df_filtrado, x='DPV', y='mean')\n",
        "plt.title('Distribución de Tc_Ta vs. DPV')\n",
        "plt.xlabel('DPV')\n",
        "plt.ylabel('Tc_Ta')\n",
        "plt.show()"
      ],
      "metadata": {
        "id": "wbtZ3qchVOVX"
      },
      "execution_count": null,
      "outputs": []
    },
    {
      "cell_type": "code",
      "source": [
        "# Crear el gráfico de dispersión\n",
        "plt.figure(figsize=(10, 6))\n",
        "plt.scatter(df_filtrado['DPV'], df_filtrado['mean'])\n",
        "\n",
        "# Anotar cada punto con la etiqueta de 'Fecha'\n",
        "for index, row in df.iterrows():\n",
        "    plt.annotate(row['Fecha'], (row['DPV'], row['mean']), textcoords=\"offset points\", xytext=(0,10), ha='center')\n",
        "\n",
        "# Etiquetas y título\n",
        "plt.xlabel('DPV')\n",
        "plt.ylabel('Tc_Ta')\n",
        "plt.title('Distribución de datos entre Tc_Ta y DPV con etiquetas de Fecha')\n",
        "\n",
        "# Mostrar el gráfico\n",
        "plt.grid(True)\n",
        "plt.show()"
      ],
      "metadata": {
        "id": "2ev9fof2Z0RS"
      },
      "execution_count": null,
      "outputs": []
    },
    {
      "cell_type": "markdown",
      "source": [
        "#### ANÁLISIS Y OBTENCIÓN DE REGRESIÓN LINEAL"
      ],
      "metadata": {
        "id": "M3pbDkbtZu_j"
      }
    },
    {
      "cell_type": "markdown",
      "source": [
        "Para obtener las *baselines* de manera experimental se debe de analizar si hay diferencia entre plantas con riego (manejo 1 y 2) y sin riego (manejo 3 y 4), de esta manera las *baselines* se toman como el límite superior para plantas totalmente estresadas (no tendría riego); como límite inferior se toman los datos de plantas con riego."
      ],
      "metadata": {
        "id": "ZwRRFnQCb4wV"
      }
    },
    {
      "cell_type": "markdown",
      "source": [
        "##### ANÁLISIS ESTADÍSTICO ENTRE MANEJOS DE RIEGO/RIEGO DEFICITARIO\n",
        "\n",
        "Vemos si existen diferencias significativas mediante test de normalidad de Shaphiro-Wilk\n"
      ],
      "metadata": {
        "id": "g9JaZoZ0ckNY"
      }
    },
    {
      "cell_type": "code",
      "source": [
        "columna = 'mean'\n",
        "stat, p_value = stats.shapiro(df_filtrado[columna])\n",
        "\n",
        "print(f'Statistic: {stat}, p-value: {p_value}')\n",
        "alpha = 0.05\n",
        "if p_value > alpha:\n",
        "    print(f'La muestra \"{columna}\" parece provenir de una distribución normal (no se rechaza H0)')\n",
        "else:\n",
        "    print(f'La muestra \"{columna}\" no parece provenir de una distribución normal (se rechaza H0)')\n",
        "\n",
        "plt.figure(figsize=(10, 4))\n",
        "sns.histplot(df_filtrado[columna], kde=True)\n",
        "plt.title('Histograma de Tc-Ta')\n",
        "plt.show()\n"
      ],
      "metadata": {
        "id": "kzBrGig4ZNcx"
      },
      "execution_count": null,
      "outputs": []
    },
    {
      "cell_type": "markdown",
      "source": [
        "Parece que Tc-Ta no siguen una distribución normal"
      ],
      "metadata": {
        "id": "xvA4ZLoDZ1IU"
      }
    },
    {
      "cell_type": "markdown",
      "source": [
        "Ahora se comprobará la normalidad para cada Manejo (se selecciona en el display inferior)"
      ],
      "metadata": {
        "id": "aM31X00mZN5d"
      }
    },
    {
      "cell_type": "code",
      "source": [
        "output = widgets.Output()\n",
        "\n",
        "def realizar_test_normalidad(factor): #Función test de normalidad\n",
        "    with output:\n",
        "        clear_output()\n",
        "        if factor in df_filtrado.columns:\n",
        "            grupos = df_filtrado.groupby(factor)\n",
        "\n",
        "            resultados = {}\n",
        "            for nombre_grupo, grupo in grupos:\n",
        "                # Realizar el test de Kolmogorov-Smirnov para cada grupo\n",
        "                stat, p_value = stats.kstest(grupo['mean'].dropna(), 'norm')\n",
        "                resultados[nombre_grupo] = {'statistic': stat, 'p_value': p_value}\n",
        "\n",
        "            # Mostrar los resultados\n",
        "            for nombre_grupo, resultado in resultados.items():\n",
        "                print(f'Grupo: {nombre_grupo}')\n",
        "                print(f'Statistic: {resultado[\"statistic\"]}, p-value: {resultado[\"p_value\"]}')\n",
        "                if resultado['p_value'] > 0.05:\n",
        "                    print('Los datos PARECEN SEGUIR una distribución normal (no se rechaza H0)')\n",
        "                else:\n",
        "                    print('Los datos NO parecen seguir una distribución normal (se rechaza H0)')\n",
        "                print('-'*50)\n",
        "        else:\n",
        "            print(f'El factor \"{factor}\" no se encuentra en las columnas del dataframe.')\n",
        "\n",
        "def on_button_clicked(b): #Botón para ejecutar el test\n",
        "    if factor_selector.value:\n",
        "        realizar_test_normalidad(factor_selector.value)\n",
        "    else:\n",
        "        with output:\n",
        "            clear_output()\n",
        "            print('Por favor, selecciona un factor.')\n",
        "\n",
        "def on_clear_button_clicked(b): #Botón para limpiar resultados\n",
        "    with output:\n",
        "        clear_output()\n",
        "        print('Resultados limpiados.')"
      ],
      "metadata": {
        "id": "8sNUZWKTcj2G"
      },
      "execution_count": null,
      "outputs": []
    },
    {
      "cell_type": "code",
      "source": [
        "# Crear botones para ejecutar el test y limpiar resultados\n",
        "button = widgets.Button(description=\"Ejecutar Test de Normalidad\")\n",
        "button.on_click(on_button_clicked)\n",
        "\n",
        "clear_button = widgets.Button(description=\"Limpiar Resultados\")\n",
        "clear_button.on_click(on_clear_button_clicked)"
      ],
      "metadata": {
        "id": "NzqI71_-YO5L"
      },
      "execution_count": null,
      "outputs": []
    },
    {
      "cell_type": "code",
      "source": [
        "display(factor_selector, button, clear_button, output)"
      ],
      "metadata": {
        "id": "FlKNi7WLYBOI"
      },
      "execution_count": null,
      "outputs": []
    },
    {
      "cell_type": "markdown",
      "source": [
        "Parece que en ningún tipo de manejo se sigue una distribución normal, así que se deberá emplear un análisis no paramétrico de los datos para ver si hay diferencias significativas entre los tipos de manejo"
      ],
      "metadata": {
        "id": "vNXP0p4KZHeq"
      }
    },
    {
      "cell_type": "markdown",
      "source": [
        "###### PRUEBA DE KRUSKAL-WALLIS\n",
        "\n"
      ],
      "metadata": {
        "id": "zYr6oGUsckJL"
      }
    },
    {
      "cell_type": "code",
      "source": [
        "# Realizar la prueba de Kruskal-Wallis\n",
        "stat, p_value = stats.kruskal(\n",
        "    df_filtrado[df_filtrado['Manejo'] == 1]['mean'],\n",
        "    df_filtrado[df_filtrado['Manejo'] == 2]['mean'],\n",
        "    df_filtrado[df_filtrado['Manejo'] == 3]['mean'],\n",
        "    df_filtrado[df_filtrado['Manejo'] == 4]['mean']\n",
        ")\n",
        "\n",
        "# Mostrar los resultados\n",
        "print(f'Estadístico de Kruskal-Wallis: {stat}')\n",
        "print(f'Valor p: {p_value}')\n",
        "\n",
        "# Interpretación del resultado\n",
        "alpha = 0.05\n",
        "if p_value < alpha:\n",
        "    print('Hay diferencias significativas entre los grupos de Manejo.')\n",
        "else:\n",
        "    print('No hay diferencias significativas entre los grupos de Manejo.')"
      ],
      "metadata": {
        "id": "02GTgqvGcrHS"
      },
      "execution_count": null,
      "outputs": []
    },
    {
      "cell_type": "markdown",
      "source": [
        " Aunque en la metodología para NWSB (non-water stress baseline) se emplean los datos de plantas no sometidas a estrés hídrico, al no existir diferencias significativas, se van a elegir los datos por encima del tercer cuartil para el límite inferior. Al solo tener un dato de humedad relativa por fecha, los valores de"
      ],
      "metadata": {
        "id": "fb2CxQZ7dLna"
      }
    },
    {
      "cell_type": "markdown",
      "source": [
        "\n",
        "\n",
        "---\n",
        "\n"
      ],
      "metadata": {
        "id": "Au42YMOcVc-2"
      }
    },
    {
      "cell_type": "markdown",
      "source": [
        "#### OBTENCIÓN DE NWSB (LÍMITE INFERIOR)\n",
        "\n",
        "Se van a calcular por fecha"
      ],
      "metadata": {
        "id": "nFAzA-UYgrbr"
      }
    },
    {
      "cell_type": "markdown",
      "source": [
        "**Se obtienen los datos de cada fecha cuya Tc-Ta esté por encima del tercer cuartil**"
      ],
      "metadata": {
        "id": "wJmJ3uaKgraK"
      }
    },
    {
      "cell_type": "code",
      "source": [
        "#Percentil elegido\n",
        "percentil_alto = 75"
      ],
      "metadata": {
        "id": "P1T4tyLKmysv"
      },
      "execution_count": null,
      "outputs": []
    },
    {
      "cell_type": "code",
      "source": [
        "df_altos = df[df['mean'] > df_filtrado['mean'].quantile(percentil_alto / 100)]"
      ],
      "metadata": {
        "id": "TelLBlIvVb9n"
      },
      "execution_count": null,
      "outputs": []
    },
    {
      "cell_type": "code",
      "source": [
        "df_altos"
      ],
      "metadata": {
        "id": "cmBCUI5ylMD3"
      },
      "execution_count": null,
      "outputs": []
    },
    {
      "cell_type": "markdown",
      "source": [
        "**Se grafica la relación Tc-Ta con DPV**"
      ],
      "metadata": {
        "id": "TgcILirmi7so"
      }
    },
    {
      "cell_type": "code",
      "source": [
        "# Crear el scatterplot con Seaborn solo para los datos bajos\n",
        "plt.figure(figsize=(10, 6))\n",
        "sns.scatterplot(data=df_altos, x='DPV', y='mean', hue='Manejo', palette='viridis')\n",
        "\n",
        "# Etiquetas y título\n",
        "plt.xlabel('DPV')\n",
        "plt.ylabel('Tc-Ta')\n",
        "plt.title('Relación Tc-Ta vs. DPV')\n",
        "\n",
        "# Mostrar el gráfico\n",
        "plt.grid(True)\n",
        "plt.show()"
      ],
      "metadata": {
        "id": "Bke2kT2wjGdJ"
      },
      "execution_count": null,
      "outputs": []
    },
    {
      "cell_type": "markdown",
      "source": [
        "###### PARA CADA FECHA"
      ],
      "metadata": {
        "id": "6CELl_PoHrX2"
      }
    },
    {
      "cell_type": "code",
      "source": [
        "def calcular_regresion(df):\n",
        "    # Preparar los datos\n",
        "    X = df[['DPV']]  # Variable independiente\n",
        "    y = df['mean']  # Variable dependiente\n",
        "\n",
        "    # Ajustar el modelo\n",
        "    modelo = LinearRegression()\n",
        "    modelo.fit(X, y)\n",
        "\n",
        "    # Extraer los parámetros\n",
        "    pendiente = modelo.coef_[0]\n",
        "    constante = modelo.intercept_\n",
        "\n",
        "    return pd.Series({'pendiente': pendiente, 'constante': constante})\n",
        "\n"
      ],
      "metadata": {
        "id": "7rHTJqnmQshh"
      },
      "execution_count": null,
      "outputs": []
    },
    {
      "cell_type": "code",
      "source": [
        "# Agrupar por la columna 'Fecha' y aplicar la función para calcular regresión\n",
        "resultados = df_altos.groupby('Fecha').apply(calcular_regresion).reset_index()\n",
        "\n",
        "# Unir los resultados de regresión con el DataFrame original\n",
        "df_altos = df_altos.merge(resultados, on='Fecha', how='left')\n",
        "\n"
      ],
      "metadata": {
        "id": "PDholT_8Qse2"
      },
      "execution_count": null,
      "outputs": []
    },
    {
      "cell_type": "code",
      "source": [
        "# prompt: save 'df_altos' as excel document but in my PC\n",
        "\n",
        "from google.colab import files\n",
        "\n",
        "# Save the DataFrame to an Excel file\n",
        "df_altos.to_excel('df_altos.xlsx', index=False)\n",
        "\n",
        "# Download the file to your local machine\n",
        "files.download('df_altos.xlsx')\n"
      ],
      "metadata": {
        "id": "FUcDU_QFQsbw"
      },
      "execution_count": null,
      "outputs": []
    },
    {
      "cell_type": "code",
      "source": [
        "df_altos"
      ],
      "metadata": {
        "id": "NN0oPDEvQsWf"
      },
      "execution_count": null,
      "outputs": []
    },
    {
      "cell_type": "markdown",
      "source": [
        "\n",
        "\n",
        "---\n",
        "\n"
      ],
      "metadata": {
        "id": "6vVpjR4iU8G6"
      }
    },
    {
      "cell_type": "code",
      "source": [
        "# Preparar los datos\n",
        "X = df_altos[['DPV']]  # Variable independiente\n",
        "y = df_altos['mean']  # Variable dependiente\n",
        "\n",
        "# Ajustar el modelo\n",
        "modelo = LinearRegression()\n",
        "modelo.fit(X, y)\n",
        "\n",
        "# Extraer los parámetros\n",
        "pendiente = modelo.coef_[0]\n",
        "constante = modelo.intercept_\n"
      ],
      "metadata": {
        "id": "wyfcnwbtk_0q"
      },
      "execution_count": null,
      "outputs": []
    },
    {
      "cell_type": "code",
      "source": [
        "print(f'Pendiente: {pendiente}')\n",
        "print(f'Constante: {constante}')"
      ],
      "metadata": {
        "id": "WiQf-MBOLQBS"
      },
      "execution_count": null,
      "outputs": []
    },
    {
      "cell_type": "code",
      "source": [
        "df_altos['Twet']=constante+(pendiente*df_altos['DPV'])\n"
      ],
      "metadata": {
        "id": "0aE-X4U3Ljg7"
      },
      "execution_count": null,
      "outputs": []
    },
    {
      "cell_type": "code",
      "source": [],
      "metadata": {
        "id": "SMc_PCthLlM_"
      },
      "execution_count": null,
      "outputs": []
    },
    {
      "cell_type": "code",
      "source": [],
      "metadata": {
        "id": "mCQsJxoqVjgL"
      },
      "execution_count": null,
      "outputs": []
    }
  ]
}